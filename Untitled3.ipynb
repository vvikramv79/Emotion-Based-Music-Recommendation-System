{
 "cells": [
  {
   "cell_type": "code",
   "execution_count": 1,
   "id": "69547349-7f38-4da6-a80d-e5c3c67afcda",
   "metadata": {},
   "outputs": [],
   "source": [
    "import numpy as np\n",
    "import pandas as pd\n",
    "import matplotlib.pyplot as plt\n",
    "import cv2\n",
    "import os\n",
    "from sklearn.preprocessing import StandardScaler\n",
    "from sklearn.model_selection import train_test_split\n",
    "from sklearn.metrics import classification_report\n",
    "from sklearn.svm import SVC\n",
    "from lightgbm import LGBMClassifier\n",
    "from keras.models import Sequential\n",
    "from keras.layers import Conv2D, MaxPooling2D, Flatten, Dense, Dropout\n",
    "from sklearn.cluster import KMeans\n"
   ]
  },
  {
   "cell_type": "code",
   "execution_count": 2,
   "id": "20be3f51-47e0-494b-9581-117690b4b5de",
   "metadata": {},
   "outputs": [],
   "source": [
    "emotions = ['angry', 'disgust', 'fear', 'happy', 'neutral', 'sad', 'surprise']\n",
    "data = []\n",
    "labels = []\n",
    "for emotion in emotions:\n",
    "    path = r'C:\\Users\\vvv\\Downloads\\archive\\train\\\\' + emotion\n",
    "    for img in os.listdir(path):\n",
    "        try:\n",
    "            img_path = os.path.join(path, img)\n",
    "            image = cv2.imread(img_path, 0)\n",
    "            image = cv2.resize(image, (48, 48))\n",
    "            data.append(image)\n",
    "            labels.append(emotions.index(emotion))\n",
    "        except Exception as e:\n",
    "            print(e)\n",
    "            print('Error loading image', img_path)\n"
   ]
  },
  {
   "cell_type": "code",
   "execution_count": 3,
   "id": "5fa608c3-aa19-4fa3-90a6-5f518718af49",
   "metadata": {},
   "outputs": [],
   "source": [
    "for emotion in emotions:\n",
    "    test_path = os.path.join(r'C:\\Users\\vvv\\Downloads\\archive\\test', emotion)\n",
    "    for img in os.listdir(test_path):\n",
    "        try:\n",
    "            img_path = os.path.join(test_path, img)\n",
    "            image = cv2.imread(img_path, 0)\n",
    "            image = cv2.resize(image, (48, 48))\n",
    "            data.append(image)\n",
    "            labels.append(emotions.index(emotion))\n",
    "        except Exception as e:\n",
    "            print(e)\n",
    "            print('Error loading image', img_path)"
   ]
  },
  {
   "cell_type": "code",
   "execution_count": 4,
   "id": "cc31e374-46f3-490a-86b0-073b82b68c81",
   "metadata": {},
   "outputs": [],
   "source": [
    "music_df = pd.read_csv(r'C:\\Users\\vvv\\Downloads\\data\\data.csv')"
   ]
  },
  {
   "cell_type": "code",
   "execution_count": 5,
   "id": "90e31799-aa1e-462c-b8ed-f8d4ba45fb4c",
   "metadata": {},
   "outputs": [],
   "source": [
    "# Drop unnecessary columns\n",
    "music_df = music_df.drop(['artists', 'id', 'name', 'release_date'], axis=1)\n",
    "\n",
    "# Encode categorical variables\n",
    "music_df['explicit'] = music_df['explicit'].astype(int)\n",
    "music_df['mode'] = music_df['mode'].astype(int)\n",
    "music_df = pd.get_dummies(music_df, columns=['key'])\n",
    "\n",
    "# Normalize numeric variables\n",
    "scaler = StandardScaler()\n",
    "music_df[['acousticness', 'danceability', 'duration_ms', 'energy', \n",
    "          'instrumentalness', 'liveness', 'loudness', 'speechiness', \n",
    "          'tempo', 'valence', 'year']] = scaler.fit_transform(music_df[['acousticness', 'danceability', 'duration_ms', 'energy', \n",
    "                                                                          'instrumentalness', 'liveness', 'loudness', 'speechiness', \n",
    "                                                                          'tempo', 'valence', 'year']])\n"
   ]
  },
  {
   "cell_type": "code",
   "execution_count": null,
   "id": "7f391a09-c51b-47dd-a7e7-8ef8c836340f",
   "metadata": {},
   "outputs": [],
   "source": [
    "# Split data into training and testing sets\n",
    "X_train, X_test, y_train, y_test = train_test_split(data, labels, test_size=0.2, random_state=42)\n",
    "\n",
    "# Flatten the image data\n",
    "X_train = np.array(X_train).reshape(len(X_train), -1)\n",
    "X_test = np.array(X_test).reshape(len(X_test), -1)\n",
    "\n",
    "# Train the model\n",
    "svm_model = SVC(kernel='linear', C=0.1, gamma=0.1)\n",
    "svm_model.fit(X_train, y_train)\n",
    "\n",
    "# Evaluate the model\n",
    "svm_pred = svm_model.predict(X_test)\n",
    "print(classification_report(y_test, svm_pred))\n"
   ]
  },
  {
   "cell_type": "code",
   "execution_count": null,
   "id": "27f56df3-561b-4aba-8d86-d48803329ee2",
   "metadata": {},
   "outputs": [],
   "source": [
    "# Split the data into training and testing sets\n",
    "X_train, X_test, y_train, y_test = train_test_split(music_df, labels, test_size=0.2, random_state=42)\n",
    "\n",
    "# Normalize the data using StandardScaler\n",
    "scaler = StandardScaler()\n",
    "X_train = scaler.fit_transform(X_train)\n",
    "X_test = scaler.transform(X_test)\n",
    "\n",
    "# Define the LightGBM hyperparameters\n",
    "params = {\n",
    "    'boosting_type': 'gbdt',\n",
    "    'objective': 'multiclass',\n",
    "    'num_class': 7,\n",
    "    'metric': 'multi_logloss',\n",
    "    'num_leaves': 31,\n",
    "    'learning_rate': 0.05,\n",
    "    'feature_fraction': 0.9,\n",
    "    'bagging_fraction': 0.8,\n",
    "    'bagging_freq': 5,\n",
    "    'verbose': -1\n",
    "}\n",
    "\n",
    "# Train the LightGBM model\n",
    "lgbm_model = LGBMClassifier(boosting_type=params['boosting_type'],\n",
    "                            objective=params['objective'],\n",
    "                            num_class=params['num_class'],\n",
    "                            metric=params['metric'],\n",
    "                            num_leaves=params['num_leaves'],\n",
    "                            learning_rate=params['learning_rate'],\n",
    "                            feature_fraction=params['feature_fraction'],\n",
    "                            bagging_fraction=params['bagging_fraction'],\n",
    "                            bagging_freq=params['bagging_freq'],\n",
    "                            verbose=params['verbose'])\n",
    "\n",
    "lgbm_model.fit(X_train, y_train)\n",
    "\n",
    "# Evaluate the model\n",
    "lgbm_pred = lgbm_model.predict(X_test)\n",
    "print(classification_report(y_test, lgbm_pred))"
   ]
  },
  {
   "cell_type": "code",
   "execution_count": null,
   "id": "c884465b-8d8c-49bd-9a5f-37b4cbb03a59",
   "metadata": {},
   "outputs": [],
   "source": []
  }
 ],
 "metadata": {
  "kernelspec": {
   "display_name": "Python 3 (ipykernel)",
   "language": "python",
   "name": "python3"
  },
  "language_info": {
   "codemirror_mode": {
    "name": "ipython",
    "version": 3
   },
   "file_extension": ".py",
   "mimetype": "text/x-python",
   "name": "python",
   "nbconvert_exporter": "python",
   "pygments_lexer": "ipython3",
   "version": "3.9.13"
  }
 },
 "nbformat": 4,
 "nbformat_minor": 5
}
